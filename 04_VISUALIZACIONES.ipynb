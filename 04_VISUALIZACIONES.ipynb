{
 "cells": [
  {
   "cell_type": "markdown",
   "id": "cfb10279-cedc-46be-bace-d8972a31d21f",
   "metadata": {
    "tags": []
   },
   "source": [
    "# Contexto"
   ]
  },
  {
   "cell_type": "markdown",
   "id": "91ac6c6b-273d-4b8d-9744-8036a0cf936f",
   "metadata": {},
   "source": [
    "Este notebook presenta el rendimiento de los modelos entrenados desde diferentes algoritmos de reconocimiento de patrones para maximizar el score de estabilidad de prediccion de mora en créditos hipotecarios del challenge de Kaggle \"Home Credit - Credit Risk Model Stability\". Disponible en:\n",
    "\n",
    "https://www.kaggle.com/competitions/home-credit-credit-risk-model-stability"
   ]
  },
  {
   "cell_type": "markdown",
   "id": "fd99bb0d-b189-4ca2-a395-1a701c2f0af0",
   "metadata": {},
   "source": [
    "## Librerías"
   ]
  },
  {
   "cell_type": "code",
   "execution_count": 1,
   "id": "0eddac7f-9743-4286-b635-8195013bbf09",
   "metadata": {},
   "outputs": [],
   "source": [
    "import warnings\n",
    "warnings.filterwarnings('ignore')\n",
    "import pandas as pd\n",
    "pd.set_option('display.max_rows', None)\n",
    "pd.set_option('display.max_columns', None)\n",
    "import numpy as np\n",
    "\n",
    "from matplotlib import pyplot as plt\n",
    "import seaborn as sns"
   ]
  },
  {
   "cell_type": "markdown",
   "id": "3fd21c93-14e4-4da6-8b62-abfa09c4330f",
   "metadata": {},
   "source": [
    "## Lectura de datos"
   ]
  },
  {
   "cell_type": "code",
   "execution_count": 2,
   "id": "b8f7704d-69b2-4627-9b30-905854ec16e5",
   "metadata": {
    "editable": true,
    "slideshow": {
     "slide_type": ""
    },
    "tags": []
   },
   "outputs": [
    {
     "data": {
      "text/html": [
       "<div>\n",
       "<style scoped>\n",
       "    .dataframe tbody tr th:only-of-type {\n",
       "        vertical-align: middle;\n",
       "    }\n",
       "\n",
       "    .dataframe tbody tr th {\n",
       "        vertical-align: top;\n",
       "    }\n",
       "\n",
       "    .dataframe thead th {\n",
       "        text-align: right;\n",
       "    }\n",
       "</style>\n",
       "<table border=\"1\" class=\"dataframe\">\n",
       "  <thead>\n",
       "    <tr style=\"text-align: right;\">\n",
       "      <th></th>\n",
       "      <th>modelo</th>\n",
       "      <th>parametros</th>\n",
       "      <th>accuracy_score</th>\n",
       "      <th>precision_score</th>\n",
       "      <th>recall_score</th>\n",
       "      <th>f1_score</th>\n",
       "      <th>roc_auc_score</th>\n",
       "    </tr>\n",
       "  </thead>\n",
       "  <tbody>\n",
       "    <tr>\n",
       "      <th>0</th>\n",
       "      <td>log</td>\n",
       "      <td>&lt;bound method BaseEstimator.get_params of Logi...</td>\n",
       "      <td>0.679073</td>\n",
       "      <td>0.059789</td>\n",
       "      <td>0.628348</td>\n",
       "      <td>0.109188</td>\n",
       "      <td>0.654530</td>\n",
       "    </tr>\n",
       "    <tr>\n",
       "      <th>0</th>\n",
       "      <td>rf_</td>\n",
       "      <td>&lt;bound method BaseEstimator.get_params of Rand...</td>\n",
       "      <td>0.963799</td>\n",
       "      <td>0.050481</td>\n",
       "      <td>0.008789</td>\n",
       "      <td>0.014971</td>\n",
       "      <td>0.501724</td>\n",
       "    </tr>\n",
       "    <tr>\n",
       "      <th>0</th>\n",
       "      <td>nb_</td>\n",
       "      <td>&lt;bound method BaseEstimator.get_params of Gaus...</td>\n",
       "      <td>0.454277</td>\n",
       "      <td>0.040518</td>\n",
       "      <td>0.724609</td>\n",
       "      <td>0.076745</td>\n",
       "      <td>0.585076</td>\n",
       "    </tr>\n",
       "    <tr>\n",
       "      <th>0</th>\n",
       "      <td>ann</td>\n",
       "      <td>{'hidden_dim1': {0: 119}, 'hidden_dim2': {0: 3...</td>\n",
       "      <td>0.799130</td>\n",
       "      <td>0.062389</td>\n",
       "      <td>0.386161</td>\n",
       "      <td>0.107422</td>\n",
       "      <td>0.599318</td>\n",
       "    </tr>\n",
       "    <tr>\n",
       "      <th>0</th>\n",
       "      <td>ens</td>\n",
       "      <td>&lt;bound method _BaseHeterogeneousEnsemble.get_p...</td>\n",
       "      <td>0.723697</td>\n",
       "      <td>0.060188</td>\n",
       "      <td>0.535575</td>\n",
       "      <td>0.108216</td>\n",
       "      <td>0.632676</td>\n",
       "    </tr>\n",
       "  </tbody>\n",
       "</table>\n",
       "</div>"
      ],
      "text/plain": [
       "  modelo                                         parametros  accuracy_score  \\\n",
       "0    log  <bound method BaseEstimator.get_params of Logi...        0.679073   \n",
       "0    rf_  <bound method BaseEstimator.get_params of Rand...        0.963799   \n",
       "0    nb_  <bound method BaseEstimator.get_params of Gaus...        0.454277   \n",
       "0    ann  {'hidden_dim1': {0: 119}, 'hidden_dim2': {0: 3...        0.799130   \n",
       "0    ens  <bound method _BaseHeterogeneousEnsemble.get_p...        0.723697   \n",
       "\n",
       "   precision_score  recall_score  f1_score  roc_auc_score  \n",
       "0         0.059789      0.628348  0.109188       0.654530  \n",
       "0         0.050481      0.008789  0.014971       0.501724  \n",
       "0         0.040518      0.724609  0.076745       0.585076  \n",
       "0         0.062389      0.386161  0.107422       0.599318  \n",
       "0         0.060188      0.535575  0.108216       0.632676  "
      ]
     },
     "execution_count": 2,
     "metadata": {},
     "output_type": "execute_result"
    }
   ],
   "source": [
    "# Leer información de datos preprocesados\n",
    "mejores_modelos = pd.read_parquet('Modelos/Resultados_Mejores_Modelos.parquet')\n",
    "\n",
    "mejores_modelos"
   ]
  },
  {
   "cell_type": "code",
   "execution_count": 12,
   "id": "654abf15-9a8b-43f9-a6c3-eec6dec01f90",
   "metadata": {
    "editable": true,
    "slideshow": {
     "slide_type": ""
    },
    "tags": []
   },
   "outputs": [
    {
     "data": {
      "text/plain": [
       "array([\"{'hidden_dim1': {0: 119}, 'hidden_dim2': {0: 32}, 'learning_rate': {0: 0.0001}, 'num_epochs': {0: 70}, 'val_roc_auc': {0: 0.9828668318527053}, 'rank_test_score': {0: 1}}\"],\n",
       "      dtype=object)"
      ]
     },
     "execution_count": 12,
     "metadata": {},
     "output_type": "execute_result"
    }
   ],
   "source": [
    "mejores_modelos[mejores_modelos['modelo']=='ann']['parametros'].values"
   ]
  },
  {
   "cell_type": "code",
   "execution_count": 13,
   "id": "e2ac4910-c3d2-4177-baf9-469e80a93890",
   "metadata": {
    "editable": true,
    "slideshow": {
     "slide_type": ""
    },
    "tags": []
   },
   "outputs": [],
   "source": [
    "# Leer información de datos preprocesados\n",
    "df_train = pd.read_pickle('Data/processed/df_train.pkl')\n",
    "df_test = pd.read_pickle('Data/processed/df_test.pkl')"
   ]
  },
  {
   "cell_type": "code",
   "execution_count": 15,
   "id": "db03d772-d4fc-4406-8fa6-15bf8c18a922",
   "metadata": {
    "editable": true,
    "slideshow": {
     "slide_type": ""
    },
    "tags": []
   },
   "outputs": [
    {
     "data": {
      "text/plain": [
       "<Axes: xlabel='target', ylabel='proportion'>"
      ]
     },
     "execution_count": 15,
     "metadata": {},
     "output_type": "execute_result"
    },
    {
     "data": {
      "image/png": "[encoded data removed]",
      "text/plain": [
       "<Figure size 640x480 with 1 Axes>"
      ]
     },
     "metadata": {},
     "output_type": "display_data"
    }
   ],
   "source": [
    "sns.barplot(df_train['target'].value_counts(normalize=True))"
   ]
  }
 ],
 "metadata": {
  "kernelspec": {
   "display_name": "Python 3 (ipykernel)",
   "language": "python",
   "name": "python3"
  },
  "language_info": {
   "codemirror_mode": {
    "name": "ipython",
    "version": 3
   },
   "file_extension": ".py",
   "mimetype": "text/x-python",
   "name": "python",
   "nbconvert_exporter": "python",
   "pygments_lexer": "ipython3",
   "version": "3.11.9"
  }
 },
 "nbformat": 4,
 "nbformat_minor": 5
}
