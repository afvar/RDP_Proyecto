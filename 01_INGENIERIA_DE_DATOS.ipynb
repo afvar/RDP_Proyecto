{
 "cells": [
  {
   "cell_type": "markdown",
   "id": "cfb10279-cedc-46be-bace-d8972a31d21f",
   "metadata": {
    "tags": []
   },
   "source": [
    "# Contexto"
   ]
  },
  {
   "cell_type": "markdown",
   "id": "91ac6c6b-273d-4b8d-9744-8036a0cf936f",
   "metadata": {},
   "source": [
    "Este notebook presenta los procesos para obtener una sabana unificada tanto para los datasets de entrenamiento y prueba del challenge de Kaggle \"Home Credit - Credit Risk Model Stability\". Disponible en:\n",
    "\n",
    "https://www.kaggle.com/competitions/home-credit-credit-risk-model-stability\n",
    "\n"
   ]
  },
  {
   "cell_type": "raw",
   "id": "b170d6ec-6d8e-4abf-bbff-59e1c7f7175c",
   "metadata": {},
   "source": [
    "!kaggle competitions download -c home-credit-credit-risk-model-stability\n",
    "\n",
    "import zipfile\n",
    "import os\n",
    "\n",
    "zip_path = 'home-credit-credit-risk-model-stability.zip' \n",
    "extraction_path = '.' # The current directory. You can change this to a specific path where you want to extract the files.\n",
    "\n",
    "with zipfile.ZipFile(zip_path, 'r') as zip_ref:\n",
    "    zip_ref.extractall(extraction_path)"
   ]
  },
  {
   "cell_type": "markdown",
   "id": "fd99bb0d-b189-4ca2-a395-1a701c2f0af0",
   "metadata": {},
   "source": [
    "## Librerías"
   ]
  },
  {
   "cell_type": "code",
   "execution_count": 1,
   "id": "d83e06f5-88f6-4b90-b92a-441a6de25885",
   "metadata": {
    "tags": []
   },
   "outputs": [],
   "source": [
    "import FUNCIONES_AUXILIARES as funciones\n",
    "import CLASES_AUXILIARES as clases\n",
    "from pathlib import Path\n",
    "import numpy as np"
   ]
  },
  {
   "cell_type": "markdown",
   "id": "e2f8276f-7e01-42f1-b0d3-c4ad561c64b2",
   "metadata": {},
   "source": [
    "## Configuración Incial"
   ]
  },
  {
   "cell_type": "code",
   "execution_count": 2,
   "id": "3e68f119-6a14-4e9e-bde6-5e2ce7efe705",
   "metadata": {},
   "outputs": [],
   "source": [
    "ROOT = Path('Data')\n",
    "TRAIN_DIR = ROOT / 'parquet_files/train'\n",
    "TEST_DIR = ROOT / 'parquet_files/test'"
   ]
  },
  {
   "cell_type": "markdown",
   "id": "3fd21c93-14e4-4da6-8b62-abfa09c4330f",
   "metadata": {},
   "source": [
    "## Lectura de datos"
   ]
  },
  {
   "cell_type": "code",
   "execution_count": 3,
   "id": "b8f7704d-69b2-4627-9b30-905854ec16e5",
   "metadata": {
    "tags": []
   },
   "outputs": [],
   "source": [
    "# Leer información de datos datos de los archivos suministrados\n",
    "\n",
    "train_data_dict = {'df_base': funciones.read_file(TRAIN_DIR / 'train_base.parquet')\n",
    "                   ,'depth_0': [funciones.read_file(TRAIN_DIR / 'train_static_cb_0.parquet')\n",
    "                                ,funciones.read_files(TRAIN_DIR / 'train_static_0_*.parquet')\n",
    "                                ,\n",
    "                                ]\n",
    "                   ,'depth_1': [funciones.read_files(TRAIN_DIR / 'train_applprev_1_*.parquet', 1)\n",
    "                                ,funciones.read_file(TRAIN_DIR / 'train_tax_registry_a_1.parquet', 1)\n",
    "                                ,funciones.read_file(TRAIN_DIR / 'train_tax_registry_b_1.parquet', 1)\n",
    "                                ,funciones.read_file(TRAIN_DIR / 'train_tax_registry_c_1.parquet', 1)\n",
    "                                ,funciones.read_files(TRAIN_DIR / 'train_credit_bureau_a_1_*.parquet', 1)\n",
    "                                ,funciones.read_file(TRAIN_DIR / 'train_credit_bureau_b_1.parquet', 1)\n",
    "                                ,funciones.read_file(TRAIN_DIR / 'train_other_1.parquet', 1)\n",
    "                                ,funciones.read_file(TRAIN_DIR / 'train_person_1.parquet', 1)\n",
    "                                ,funciones.read_file(TRAIN_DIR / 'train_deposit_1.parquet', 1)\n",
    "                                , funciones.read_file(TRAIN_DIR / 'train_debitcard_1.parquet', 1)\n",
    "                                ,\n",
    "                                ]\n",
    "                   ,'depth_2': [funciones.read_file(TRAIN_DIR / 'train_credit_bureau_b_2.parquet', 2)\n",
    "                                ,funciones.read_files(TRAIN_DIR / 'train_credit_bureau_a_2_*.parquet', 2)\n",
    "                                ,\n",
    "                                ]\n",
    "                   }\n",
    "\n",
    "# Lo mismo para el conjunto de test\n",
    "\n",
    "test_data_dict = {'df_base': funciones.read_file(TEST_DIR / 'test_base.parquet')\n",
    "                  ,'depth_0': [funciones.read_file(TEST_DIR / 'test_static_cb_0.parquet')\n",
    "                               ,funciones.read_files(TEST_DIR / 'test_static_0_*.parquet')\n",
    "                               ,\n",
    "                               ]\n",
    "                  ,'depth_1': [funciones.read_files(TEST_DIR / 'test_applprev_1_*.parquet', 1)\n",
    "                               ,funciones.read_file(TEST_DIR / 'test_tax_registry_a_1.parquet', 1)\n",
    "                               ,funciones.read_file(TEST_DIR / 'test_tax_registry_b_1.parquet', 1)\n",
    "                               ,funciones.read_file(TEST_DIR / 'test_tax_registry_c_1.parquet', 1)\n",
    "                               ,funciones.read_files(TEST_DIR / 'test_credit_bureau_a_1_*.parquet', 1)\n",
    "                               ,funciones.read_file(TEST_DIR / 'test_credit_bureau_b_1.parquet', 1)\n",
    "                               ,funciones.read_file(TEST_DIR / 'test_other_1.parquet', 1)\n",
    "                               ,funciones.read_file(TEST_DIR / 'test_person_1.parquet', 1)\n",
    "                               ,funciones.read_file(TEST_DIR / 'test_deposit_1.parquet', 1)\n",
    "                               , funciones.read_file(TEST_DIR / 'test_debitcard_1.parquet', 1)\n",
    "                               ,\n",
    "                               ]\n",
    "                  ,'depth_2': [funciones.read_file(TEST_DIR / 'test_credit_bureau_b_2.parquet', 2)\n",
    "                               ,funciones.read_files(TEST_DIR / 'test_credit_bureau_a_2_*.parquet', 2)\n",
    "                               ,\n",
    "                               ]\n",
    "                  }"
   ]
  },
  {
   "cell_type": "markdown",
   "id": "5d81ea45-85cf-40ae-96fa-beb007254336",
   "metadata": {},
   "source": [
    "## Procesamiento"
   ]
  },
  {
   "cell_type": "code",
   "execution_count": 4,
   "id": "6c5108ce-f669-4d1a-86f2-2ba7def6129e",
   "metadata": {},
   "outputs": [
    {
     "name": "stdout",
     "output_type": "stream",
     "text": [
      "train data shape:\t (1526659, 472) \n",
      " test data shape:\t (10, 471)\n"
     ]
    }
   ],
   "source": [
    "df_train = funciones.feature_eng(**train_data_dict)\n",
    "df_test = funciones.feature_eng(**test_data_dict)\n",
    "\n",
    "print('train data shape:\\t'\n",
    "      , df_train.shape\n",
    "      , '\\n'\n",
    "      ,'test data shape:\\t'\n",
    "      , df_test.shape\n",
    "     )"
   ]
  },
  {
   "cell_type": "code",
   "execution_count": 5,
   "id": "8e4ef9ef-9ba2-4aae-a9ab-705a085917f5",
   "metadata": {},
   "outputs": [
    {
     "name": "stdout",
     "output_type": "stream",
     "text": [
      "train data shape:\t (1526659, 361) \n",
      " test data shape:\t (10, 360)\n"
     ]
    }
   ],
   "source": [
    "# Se aplica el filtro de variables en el conjunto de train y se dejan las mismas columnas para test\n",
    "\n",
    "df_train = df_train.pipe(clases.Pipeline.filter_cols)\n",
    "df_test = df_test.select([col for col in df_train.columns if col != \"target\"])\n",
    "\n",
    "print('train data shape:\\t'\n",
    "      , df_train.shape\n",
    "      , '\\n'\n",
    "      ,'test data shape:\\t'\n",
    "      , df_test.shape\n",
    "     )"
   ]
  },
  {
   "cell_type": "code",
   "execution_count": 6,
   "id": "bc5ffc2d-9bc2-4ac1-a55f-ed8046111b9f",
   "metadata": {},
   "outputs": [],
   "source": [
    "# Se transforma de polars a pandas\n",
    "\n",
    "df_train, cat_cols = funciones.to_pandas(df_train)\n",
    "df_test, cat_cols = funciones.to_pandas(df_test, cat_cols)"
   ]
  },
  {
   "cell_type": "code",
   "execution_count": 7,
   "id": "4d536e4b-90ad-45ee-9afd-3a75f519e4de",
   "metadata": {},
   "outputs": [],
   "source": [
    "# Corregir ariables con formatos errados\n",
    "\n",
    "columnas_modificar = ['equalitydataagreement_891L'\n",
    "                      , 'isdebitcard_729L'\n",
    "                      , 'opencred_647L'\n",
    "                      , 'max_isbidproduct_390L'\n",
    "                      , 'max_isdebitcard_527L'\n",
    "                      , 'max_contaddr_matchlist_1032L'\n",
    "                      , 'max_contaddr_smempladdr_334L'\n",
    "                      , 'max_remitter_829L'\n",
    "                      , 'max_safeguarantyflag_411L'\n",
    "                     ]\n",
    "\n",
    "for i in columnas_modificar:\n",
    "    for df in [df_train, df_test]:\n",
    "        df[i] = df[i].astype('float')\n",
    "        df[i] = df[i].apply(lambda x: np.nan if (x != x)\n",
    "                            else 1 if x == 1\n",
    "                            else 0\n",
    "                            )"
   ]
  },
  {
   "cell_type": "code",
   "execution_count": 8,
   "id": "65481119-1b78-4c48-b0c1-099b00734e6f",
   "metadata": {},
   "outputs": [],
   "source": [
    "# Eliminación de diccionarios para liberar memoria\n",
    "\n",
    "del [train_data_dict, test_data_dict]"
   ]
  },
  {
   "cell_type": "code",
   "execution_count": 9,
   "id": "07a7b87a-e469-4e4c-bb1e-1c8f3ce7fee4",
   "metadata": {},
   "outputs": [],
   "source": [
    "## Dataset de Salida\n",
    "\n",
    "df_train.to_parquet('Data/pre_processed/df_train.parquet')\n",
    "df_test.to_parquet('Data/pre_processed/df_test.parquet')"
   ]
  }
 ],
 "metadata": {
  "kernelspec": {
   "display_name": "Python 3 (ipykernel)",
   "language": "python",
   "name": "python3"
  },
  "language_info": {
   "codemirror_mode": {
    "name": "ipython",
    "version": 3
   },
   "file_extension": ".py",
   "mimetype": "text/x-python",
   "name": "python",
   "nbconvert_exporter": "python",
   "pygments_lexer": "ipython3",
   "version": "3.11.9"
  }
 },
 "nbformat": 4,
 "nbformat_minor": 5
}
