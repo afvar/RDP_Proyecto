{
 "cells": [
  {
   "cell_type": "markdown",
   "id": "cfb10279-cedc-46be-bace-d8972a31d21f",
   "metadata": {
    "tags": []
   },
   "source": [
    "# Contexto"
   ]
  },
  {
   "cell_type": "markdown",
   "id": "91ac6c6b-273d-4b8d-9744-8036a0cf936f",
   "metadata": {
    "editable": true,
    "slideshow": {
     "slide_type": ""
    },
    "tags": []
   },
   "source": [
    "Este notebook presenta el entrenamiento de diferentes algoritmos de reconocimiento de patrones para maximizar el score de estabilidad de prediccion de mora en créditos hipotecarios del challenge de Kaggle \"Home Credit - Credit Risk Model Stability\". Disponible en:\n",
    "\n",
    "https://www.kaggle.com/competitions/home-credit-credit-risk-model-stability\n",
    "\n"
   ]
  },
  {
   "cell_type": "markdown",
   "id": "fd99bb0d-b189-4ca2-a395-1a701c2f0af0",
   "metadata": {},
   "source": [
    "## Librerías"
   ]
  },
  {
   "cell_type": "code",
   "execution_count": 1,
   "id": "0eddac7f-9743-4286-b635-8195013bbf09",
   "metadata": {},
   "outputs": [],
   "source": [
    "import warnings\n",
    "warnings.filterwarnings('ignore')\n",
    "import pandas as pd\n",
    "pd.set_option('display.max_rows', None)\n",
    "pd.set_option('display.max_columns', None)\n",
    "import numpy as np\n",
    "\n",
    "from sklearn.model_selection import train_test_split\n",
    "from imblearn.over_sampling import SMOTE\n",
    "from sklearn.model_selection import StratifiedGroupKFold\n",
    "from sklearn.metrics import accuracy_score, precision_score, recall_score, f1_score, roc_auc_score\n",
    "\n",
    "import joblib\n",
    "from sklearn.model_selection import RandomizedSearchCV\n",
    "from sklearn.linear_model import LogisticRegression\n",
    "from sklearn.ensemble import RandomForestClassifier\n",
    "from sklearn.naive_bayes import GaussianNB\n",
    "\n",
    "import torch\n",
    "import torch.nn as nn\n",
    "import torch.optim as optim\n",
    "from torch.utils.data import DataLoader, TensorDataset\n",
    "import random\n",
    "import time\n",
    "from sklearn.ensemble import VotingClassifier"
   ]
  },
  {
   "cell_type": "markdown",
   "id": "3fd21c93-14e4-4da6-8b62-abfa09c4330f",
   "metadata": {},
   "source": [
    "## Lectura de datos"
   ]
  },
  {
   "cell_type": "code",
   "execution_count": 2,
   "id": "b8f7704d-69b2-4627-9b30-905854ec16e5",
   "metadata": {
    "editable": true,
    "slideshow": {
     "slide_type": ""
    },
    "tags": []
   },
   "outputs": [],
   "source": [
    "# Leer información de datos preprocesados\n",
    "df_train = pd.read_pickle('Data/processed/df_train.pkl')\n",
    "df_test = pd.read_pickle('Data/processed/df_test.pkl')"
   ]
  },
  {
   "cell_type": "markdown",
   "id": "e1305037-2bad-4d0f-ba11-b9dca6c40417",
   "metadata": {},
   "source": [
    "## Preparación de datos"
   ]
  },
  {
   "cell_type": "code",
   "execution_count": 3,
   "id": "ae551e3e-94fb-4d14-9342-34108b470f07",
   "metadata": {
    "editable": true,
    "slideshow": {
     "slide_type": ""
    },
    "tags": []
   },
   "outputs": [
    {
     "data": {
      "text/plain": [
       "target\n",
       "0    0.968563\n",
       "1    0.031437\n",
       "Name: proportion, dtype: float64"
      ]
     },
     "execution_count": 3,
     "metadata": {},
     "output_type": "execute_result"
    }
   ],
   "source": [
    "# Revisamos distribucioón de la variable objetivo\n",
    "df_train['target'].value_counts(normalize=True)"
   ]
  },
  {
   "cell_type": "markdown",
   "id": "eed3d2bf-a8a5-4266-9d39-dd0401e6d7e6",
   "metadata": {},
   "source": [
    "Debido al desbalanceo del target es alto todos los modelos se realizan con la parametrización "
   ]
  },
  {
   "cell_type": "code",
   "execution_count": 4,
   "id": "cf1392b2-eb0b-42f3-885e-182464b10d81",
   "metadata": {
    "scrolled": true,
    "tags": []
   },
   "outputs": [],
   "source": [
    "# Quitar variables de target, case_id\n",
    "X = df_train.drop(columns=['target', 'case_id'])\n",
    "y = df_train['target']\n",
    "\n",
    "# Se generan los splits para generar el conjunto de teteo\n",
    "X_train, X_test, y_train, y_test = train_test_split(X\n",
    "                                                    ,y\n",
    "                                                    ,test_size=0.15\n",
    "                                                    ,random_state=951\n",
    "                                                    )\n",
    "\n",
    "# Aplicar SMOTE\n",
    "smote = SMOTE(random_state=42)\n",
    "X_train, y_train = smote.fit_resample(X_train, y_train)\n",
    "X_train.shape\n",
    "\n",
    "# Se define weeks para estratificación\n",
    "weeks = X_train['WEEK_NUM']\n",
    "\n",
    "# Se elimina week_num de ambos conjutos\n",
    "X_train = X_train.drop(columns=['WEEK_NUM'])\n",
    "X_test = X_test.drop(columns=['WEEK_NUM'])\n",
    "\n",
    "# Se define la division por 5 splits estratificadas\n",
    "cv = StratifiedGroupKFold(n_splits=5\n",
    "                          , shuffle=True\n",
    "                          , random_state=846\n",
    "                         )"
   ]
  },
  {
   "cell_type": "code",
   "execution_count": 5,
   "id": "c158c05a-df0e-4d4b-849a-46762bee2ab3",
   "metadata": {},
   "outputs": [
    {
     "data": {
      "text/plain": [
       "target\n",
       "0    0.5\n",
       "1    0.5\n",
       "Name: proportion, dtype: float64"
      ]
     },
     "execution_count": 5,
     "metadata": {},
     "output_type": "execute_result"
    }
   ],
   "source": [
    "y_train.value_counts(normalize=True)"
   ]
  },
  {
   "cell_type": "markdown",
   "id": "e18410fc-8a6b-48f6-87fa-7e0726be98b4",
   "metadata": {},
   "source": [
    "## Entrenamiento"
   ]
  },
  {
   "cell_type": "markdown",
   "id": "4dc987df-4680-493d-b503-2ec670dc9e0d",
   "metadata": {},
   "source": [
    "Se genera la función de evaluacion de modelo frente al conjunto de test:"
   ]
  },
  {
   "cell_type": "code",
   "execution_count": 6,
   "id": "773682cb-1e12-4d9a-990d-648ec95eda95",
   "metadata": {},
   "outputs": [],
   "source": [
    "def evaluate_model(model, model_name, X_test, params, y_test=np.array([0]), device = 'cuda'):\n",
    "    if model_name == 'ann':\n",
    "        y_test, y_pred = evaluate_nn(model, X_test, device)\n",
    "        y_test = [1 if p[0] > 0 else 0 for p in y_test]\n",
    "        y_pred = [1 if p[0] > 0.1 else 0 for p in y_pred]\n",
    "    else:\n",
    "        y_pred = model.predict(X_test)\n",
    "    return {\n",
    "        'modelo': model_name\n",
    "        ,'parametros': str(params)\n",
    "        ,'accuracy_score': accuracy_score(y_test, y_pred)\n",
    "        ,'precision_score': precision_score(y_test, y_pred)\n",
    "        ,'recall_score': recall_score(y_test, y_pred)\n",
    "        ,'f1_score': f1_score(y_test, y_pred)\n",
    "        ,'roc_auc_score': roc_auc_score(y_test, y_pred)\n",
    "    }"
   ]
  },
  {
   "cell_type": "markdown",
   "id": "17c04dc5-6f2d-4ea6-9786-b17bc336ec72",
   "metadata": {},
   "source": [
    "### Logit"
   ]
  },
  {
   "cell_type": "raw",
   "id": "80e0dc03-ee48-4d86-aae4-b5b955675959",
   "metadata": {
    "editable": true,
    "scrolled": true,
    "slideshow": {
     "slide_type": ""
    },
    "tags": []
   },
   "source": [
    "%%time\n",
    "# Se genera un diccionario de parametros por cada modelo a probar\n",
    "\n",
    "logistic_param_dist = {\n",
    "    'C': [0.001, 0.01, 0.1, 1, 10,100]\n",
    "    ,'penalty': ['l1', 'l2']\n",
    "    ,'solver': ['saga']\n",
    "}\n",
    "\n",
    "# Se genera un grid search para cada modelo\n",
    "\n",
    "\n",
    "logistic_random_search = RandomizedSearchCV(\n",
    "    estimator=LogisticRegression(n_jobs=-1\n",
    "                                ,max_iter=10\n",
    "                                )\n",
    "    ,param_distributions=logistic_param_dist\n",
    "    ,n_iter=25\n",
    "    ,cv=cv\n",
    "    ,verbose=4\n",
    "    ,random_state=42\n",
    "    ,n_jobs=1\n",
    "    ,scoring = 'roc_auc'\n",
    "    ,return_train_score = True\n",
    ")\n",
    "\n",
    "logistic_random_search.fit(X_train, y_train, groups=weeks)\n",
    "\n",
    "# Guardar Resultados\n",
    "\n",
    "cv_results = pd.DataFrame(logistic_random_search.cv_results_)\n",
    "cv_results.to_parquet('Modelos/RS_Logit.parquet')\n",
    "\n",
    "# Guardar Mejor Modelo\n",
    "\n",
    "joblib.dump(logistic_random_search.best_estimator_, 'Modelos/Modelos_Principales/best_logit.joblib')"
   ]
  },
  {
   "cell_type": "code",
   "execution_count": 7,
   "id": "dd1865b2-f8ab-4ee9-9fe5-73906654cf5d",
   "metadata": {},
   "outputs": [],
   "source": [
    "log_model = joblib.load('Modelos/Modelos_Principales/best_logit.joblib')"
   ]
  },
  {
   "cell_type": "markdown",
   "id": "4241e469-8ba7-4cbf-a5d8-4497c13aa8bf",
   "metadata": {},
   "source": [
    "### Random Forest"
   ]
  },
  {
   "cell_type": "raw",
   "id": "437fe730-7faa-4d64-8347-c22be280c712",
   "metadata": {
    "editable": true,
    "slideshow": {
     "slide_type": ""
    },
    "tags": []
   },
   "source": [
    "%%time\n",
    "# Se genera un diccionario de parametros por cada modelo a probar\n",
    "rf_param_dist = {\n",
    "    'n_estimators': [10, 50, 100, 200]\n",
    "    ,'max_features': ['sqrt', 'log2']\n",
    "    ,'max_depth': [10, 20, 30]\n",
    "    ,'min_samples_split': [2, 5, 10]\n",
    "    ,'min_samples_leaf': [1, 2, 4]\n",
    "    ,'bootstrap': [True, False]\n",
    "}\n",
    "\n",
    "# Se genera un random search para cada modelo\n",
    "rf_random_search = RandomizedSearchCV(\n",
    "    estimator=RandomForestClassifier(n_jobs=-1\n",
    "                                    )\n",
    "    ,param_distributions=rf_param_dist\n",
    "    ,n_iter=25\n",
    "    ,cv=cv\n",
    "    ,verbose=4\n",
    "    ,random_state=42\n",
    "    ,n_jobs=1\n",
    "    ,scoring = 'roc_auc'\n",
    "    ,return_train_score = True\n",
    ")\n",
    "\n",
    "rf_random_search.fit(X_train, y_train, groups=weeks)\n",
    "\n",
    "# Guardar Resultados\n",
    "\n",
    "cv_results = pd.DataFrame(rf_random_search.cv_results_)\n",
    "cv_results.to_parquet('Modelos/RS_Random_Forest.parquet')\n",
    "\n",
    "# Guardar Mejor Modelo\n",
    "\n",
    "joblib.dump(rf_random_search.best_estimator_, 'Modelos/Modelos_Principales/best_random_forest.joblib')"
   ]
  },
  {
   "cell_type": "code",
   "execution_count": 8,
   "id": "c87ff4d6-5c99-440d-aad3-aa688ca2195d",
   "metadata": {},
   "outputs": [],
   "source": [
    "rf_model = joblib.load('Modelos/Modelos_Principales/best_random_forest.joblib')"
   ]
  },
  {
   "cell_type": "markdown",
   "id": "f9b805c7-f42b-4c25-a138-648820bee732",
   "metadata": {},
   "source": [
    "### Naive Bayes"
   ]
  },
  {
   "cell_type": "raw",
   "id": "ca1d9ece-4bb6-4f64-bead-8e073d58a4c3",
   "metadata": {
    "editable": true,
    "slideshow": {
     "slide_type": ""
    },
    "tags": []
   },
   "source": [
    "# Definir el espacio de búsqueda de hiperparámetros\n",
    "nb_param_dist = {\n",
    "    'var_smoothing': np.logspace(0, -9, num=100)  # Explorando valores en una escala logarítmica\n",
    "}\n",
    "\n",
    "# Configurar el RandomizedSearchCV\n",
    "nb_random_search = RandomizedSearchCV(\n",
    "    estimator=GaussianNB(),\n",
    "    param_distributions=nb_param_dist,\n",
    "    n_iter=25,\n",
    "    cv=cv,\n",
    "    verbose=4,\n",
    "    random_state=42,\n",
    "    n_jobs=2,\n",
    "    scoring='roc_auc',\n",
    "    return_train_score=True\n",
    ")\n",
    "\n",
    "# Entrenar el modelo usando el RandomizedSearchCV\n",
    "nb_random_search.fit(X_train, y_train, groups=weeks)\n",
    "\n",
    "# Guardar Resultados\n",
    "cv_results_nb = pd.DataFrame(nb_random_search.cv_results_)\n",
    "cv_results_nb.to_parquet('Modelos/RS_Naive_Bayes.parquet')\n",
    "\n",
    "# Guardar Mejor Modelo\n",
    "joblib.dump(nb_random_search.best_estimator_, 'Modelos/Modelos_Principales/best_naive_bayes.joblib')"
   ]
  },
  {
   "cell_type": "code",
   "execution_count": 9,
   "id": "99fa1d6e-2c73-40d5-8fb9-2718c432f553",
   "metadata": {},
   "outputs": [],
   "source": [
    "nb_model = joblib.load('Modelos/Modelos_Principales/best_naive_bayes.joblib')"
   ]
  },
  {
   "cell_type": "markdown",
   "id": "1450e3e9-0035-4a63-85d9-968f16cc0c5d",
   "metadata": {},
   "source": [
    "### ANN"
   ]
  },
  {
   "cell_type": "code",
   "execution_count": 10,
   "id": "85f47129-0d17-47db-be00-353801b8f732",
   "metadata": {},
   "outputs": [
    {
     "name": "stdout",
     "output_type": "stream",
     "text": [
      "Using device: cuda\n"
     ]
    }
   ],
   "source": [
    "torch.manual_seed(42)\n",
    "# Verificar device\n",
    "device = torch.device(\"cuda\" if torch.cuda.is_available() else \"cpu\")\n",
    "print(f\"Using device: {device}\")\n",
    "\n",
    "# Convertir a tensores\n",
    "X_train_train, X_val, y_train_train, y_val = train_test_split(X_train, y_train, test_size=0.15, random_state=951)\n",
    "X_train_tensor = torch.tensor(np.array(X_train_train), dtype=torch.float32).to(device)\n",
    "y_train_tensor = torch.tensor(np.array(y_train_train.values), dtype=torch.float32).unsqueeze(1).to(device)\n",
    "X_val_tensor = torch.tensor(np.array(X_val), dtype=torch.float32).to(device)\n",
    "y_val_tensor = torch.tensor(np.array(y_val.values), dtype=torch.float32).unsqueeze(1).to(device)\n",
    "\n",
    "# Crear DataLoader\n",
    "train_dataset = TensorDataset(X_train_tensor, y_train_tensor)\n",
    "val_dataset = TensorDataset(X_val_tensor, y_val_tensor)\n",
    "train_loader = DataLoader(dataset=train_dataset, batch_size=512, shuffle=True)\n",
    "val_loader = DataLoader(dataset=val_dataset, batch_size=512, shuffle=False)"
   ]
  },
  {
   "cell_type": "code",
   "execution_count": 11,
   "id": "d649fe82-1513-42e8-bb23-abda075bc029",
   "metadata": {},
   "outputs": [],
   "source": [
    "# Se define la arquitectura de la red\n",
    "class RedInicial(nn.Module):\n",
    "    def __init__(self, input_dim, hidden_dim1, hidden_dim2, output_dim):\n",
    "        super(RedInicial, self).__init__()\n",
    "        self.fc1 = nn.Linear(input_dim, hidden_dim1)  # Primera capa oculta\n",
    "        self.relu1 = nn.ReLU()  # Activación ReLU\n",
    "        self.fc2 = nn.Linear(hidden_dim1, hidden_dim2)  # Segunda capa oculta\n",
    "        self.relu2 = nn.ReLU()  # Activación ReLU\n",
    "        self.fc3 = nn.Linear(hidden_dim2, output_dim)  # Capa de salida\n",
    "        self.sigmoid = nn.Sigmoid()  # Activación Sigmoid\n",
    "\n",
    "    def forward(self, x):\n",
    "        out = self.fc1(x)\n",
    "        out = self.relu1(out)\n",
    "        out = self.fc2(out)\n",
    "        out = self.relu2(out)\n",
    "        out = self.fc3(out)\n",
    "        out = self.sigmoid(out)\n",
    "        return out"
   ]
  },
  {
   "cell_type": "code",
   "execution_count": 12,
   "id": "c06db528-6faa-48aa-9d4d-92a8457a8e3c",
   "metadata": {},
   "outputs": [],
   "source": [
    "# Se define una funcion de entrenamiento que ajuste de forma dinecta los hiperparametros\n",
    "def train_model(model, criterion, optimizer, train_loader, val_loader, num_epochs, device):\n",
    "    for epoch in range(num_epochs):\n",
    "        start_time = time.time()\n",
    "        model.train()\n",
    "        train_loss = 0.0\n",
    "        for X_batch, y_batch in train_loader:\n",
    "            X_batch, y_batch = X_batch.to(device), y_batch.to(device)  # Mover los datos a la GPU\n",
    "            optimizer.zero_grad()\n",
    "            outputs = model(X_batch)\n",
    "            loss = criterion(outputs, y_batch)\n",
    "            loss.backward()\n",
    "            optimizer.step()\n",
    "            train_loss += loss.item() * X_batch.size(0)\n",
    "        \n",
    "        train_loss /= len(train_loader.dataset)\n",
    "        \n",
    "        model.eval()\n",
    "        y_true = []\n",
    "        y_pred = []\n",
    "        with torch.no_grad():\n",
    "            for X_batch, y_batch in val_loader:\n",
    "                X_batch, y_batch = X_batch.to(device), y_batch.to(device)  # Mover los datos a la GPU\n",
    "                outputs = model(X_batch)\n",
    "                y_true.extend(y_batch.cpu().numpy())\n",
    "                y_pred.extend(outputs.cpu().numpy())\n",
    "        \n",
    "        val_roc_auc = roc_auc_score(y_true, y_pred)\n",
    "        end_time = time.time()\n",
    "        epoch_time = end_time - start_time\n",
    "        print(f\"Epoch [{epoch+1}/{num_epochs}], Train Loss: {train_loss:.4f}, Validation ROC AUC: {val_roc_auc:.4f}, Time: {epoch_time:.2f}s\")\n",
    "\n",
    "# Se define una funicon para comparar valores reales con predichos\n",
    "def evaluate_nn(model, val_loader, device):\n",
    "    model.eval()\n",
    "    y_true = []\n",
    "    y_pred = []\n",
    "    with torch.no_grad():\n",
    "        for X_batch, y_batch in val_loader:\n",
    "            X_batch, y_batch = X_batch.to(device), y_batch.to(device)  # Mover los datos a la GPU\n",
    "            outputs = model(X_batch)\n",
    "            y_true.extend(y_batch.tolist())\n",
    "            y_pred.extend(outputs.tolist())\n",
    "    return y_true, y_pred"
   ]
  },
  {
   "cell_type": "raw",
   "id": "1e58f5a1-3abb-445f-bd65-021a084b8798",
   "metadata": {
    "editable": true,
    "scrolled": true,
    "slideshow": {
     "slide_type": ""
    },
    "tags": []
   },
   "source": [
    "%%time\n",
    "random.seed(1234)\n",
    "# Definir el espacio de hiperparámetros\n",
    "param_dist = {\n",
    "    'hidden_dim1': [32, 64, 119]\n",
    "    ,'hidden_dim2': [32, 64]\n",
    "    ,'learning_rate': [0.01, 0.001, 0.0001]\n",
    "    ,'num_epochs': [30, 50, 70]\n",
    "}\n",
    "\n",
    "# Lista para almacenar los resultados de cada modelo\n",
    "search_results = []\n",
    "\n",
    "# Realizar Random Search\n",
    "num_searches = 5\n",
    "best_model = None\n",
    "best_roc_auc = 0.0\n",
    "\n",
    "for _ in range(num_searches):\n",
    "    start_time = time.time()\n",
    "    hidden_dim1 = random.choice(param_dist['hidden_dim1'])\n",
    "    hidden_dim2 = random.choice(param_dist['hidden_dim2'])\n",
    "    learning_rate = random.choice(param_dist['learning_rate'])\n",
    "    num_epochs = random.choice(param_dist['num_epochs'])\n",
    "    \n",
    "    model = RedInicial(input_dim=X_train.shape[1], hidden_dim1=hidden_dim1, hidden_dim2=hidden_dim2, output_dim=1).to(device)\n",
    "    criterion = nn.BCELoss()\n",
    "    optimizer = optim.Adam(model.parameters(), lr=learning_rate)\n",
    "    \n",
    "    end_time = time.time()\n",
    "    search_time = end_time - start_time\n",
    "        \n",
    "    print(f\"Training with hidden_dim1={hidden_dim1}, hidden_dim2={hidden_dim2}, learning_rate={learning_rate}, num_epochs={num_epochs}\")\n",
    "    train_model(model, criterion, optimizer, train_loader, val_loader, num_epochs, device)\n",
    "    print(f'Time of search point: {search_time}')\n",
    "    \n",
    "    y_true, y_pred = evaluate_nn(model, val_loader, device)\n",
    "    val_roc_auc = roc_auc_score(y_true, y_pred)\n",
    "    \n",
    "    # Guardar los resultados del modelo actual\n",
    "    result = {\n",
    "        'hidden_dim1': hidden_dim1,\n",
    "        'hidden_dim2': hidden_dim2,\n",
    "        'learning_rate': learning_rate,\n",
    "        'num_epochs': num_epochs,\n",
    "        'val_roc_auc': val_roc_auc\n",
    "    }\n",
    "    search_results.append(result)\n",
    "    \n",
    "    if val_roc_auc > best_roc_auc:\n",
    "        best_roc_auc = val_roc_auc\n",
    "        best_model = model\n",
    "\n",
    "print(f\"Best model has validation ROC AUC: {best_roc_auc:.4f}\")\n",
    "\n",
    "# Convertir los resultados a un DataFrame\n",
    "search_results_df = pd.DataFrame(search_results)\n",
    "\n",
    "# Guardar los resultados en un archivo Parquet\n",
    "search_results_df.to_parquet('Modelos/RS_Neural_Network.parquet')\n",
    "\n",
    "# Guarar el mejor modelo\n",
    "torch.save(best_model.state_dict(), 'Modelos/Modelos_Principales/best_neural_network.pth')"
   ]
  },
  {
   "cell_type": "code",
   "execution_count": 13,
   "id": "5a49ffbd-bc31-4716-81d9-a5e9c4cbbcff",
   "metadata": {},
   "outputs": [],
   "source": [
    "resultados_ann = pd.read_parquet('Modelos/RS_Neural_Network.parquet')\n",
    "resultados_ann = resultados_ann.sort_values(by='val_roc_auc', ascending = False).reset_index(drop = True)\n",
    "resultados_ann['dummy'] = 1\n",
    "resultados_ann['rank_test_score'] = resultados_ann.groupby('dummy').cumcount() + 1\n",
    "resultados_ann.drop(columns=['dummy'], inplace = True)\n",
    "mejor_resultado = resultados_ann[resultados_ann['rank_test_score']==1]"
   ]
  },
  {
   "cell_type": "code",
   "execution_count": 14,
   "id": "1d4f7ded-7a7a-455f-b593-d5bee2d53c0e",
   "metadata": {},
   "outputs": [],
   "source": [
    "# Cargar el modelo más tarde\n",
    "ann_model = RedInicial(input_dim=X_train_tensor.shape[1]\n",
    "                       , hidden_dim1=mejor_resultado.hidden_dim1.values[0]\n",
    "                       , hidden_dim2=mejor_resultado.hidden_dim2.values[0]\n",
    "                       , output_dim=1\n",
    "                      ).to(device)\n",
    "ann_model.load_state_dict(torch.load('Modelos/Modelos_Principales/best_neural_network.pth'\n",
    "                                     , map_location=device\n",
    "                                     )\n",
    "                          )\n",
    "\n",
    "# Evaluar el modelo cargado en el conjunto de prueba\n",
    "\n",
    "X_test_tensor = torch.tensor(np.array(X_test), dtype=torch.float32).to(device)\n",
    "y_test_tensor = torch.tensor(np.array(y_test.values), dtype=torch.float32).unsqueeze(1).to(device)\n",
    "\n",
    "test_dataset = TensorDataset(X_test_tensor, y_test_tensor)\n",
    "test_loader = DataLoader(dataset=test_dataset, batch_size=512, shuffle=False)\n",
    "\n",
    "\n"
   ]
  },
  {
   "cell_type": "markdown",
   "id": "897e54b2-2ac2-495f-9bd3-f6a6aa7d6c4a",
   "metadata": {},
   "source": [
    "## Rendimiento de cada modelo"
   ]
  },
  {
   "cell_type": "code",
   "execution_count": 15,
   "id": "c35920bd-cc4c-4c56-8192-f548da658c4b",
   "metadata": {
    "editable": true,
    "slideshow": {
     "slide_type": ""
    },
    "tags": []
   },
   "outputs": [
    {
     "data": {
      "text/html": [
       "<div>\n",
       "<style scoped>\n",
       "    .dataframe tbody tr th:only-of-type {\n",
       "        vertical-align: middle;\n",
       "    }\n",
       "\n",
       "    .dataframe tbody tr th {\n",
       "        vertical-align: top;\n",
       "    }\n",
       "\n",
       "    .dataframe thead th {\n",
       "        text-align: right;\n",
       "    }\n",
       "</style>\n",
       "<table border=\"1\" class=\"dataframe\">\n",
       "  <thead>\n",
       "    <tr style=\"text-align: right;\">\n",
       "      <th></th>\n",
       "      <th>modelo</th>\n",
       "      <th>parametros</th>\n",
       "      <th>accuracy_score</th>\n",
       "      <th>precision_score</th>\n",
       "      <th>recall_score</th>\n",
       "      <th>f1_score</th>\n",
       "      <th>roc_auc_score</th>\n",
       "    </tr>\n",
       "  </thead>\n",
       "  <tbody>\n",
       "    <tr>\n",
       "      <th>0</th>\n",
       "      <td>log</td>\n",
       "      <td>&lt;bound method BaseEstimator.get_params of Logi...</td>\n",
       "      <td>0.679073</td>\n",
       "      <td>0.059789</td>\n",
       "      <td>0.628348</td>\n",
       "      <td>0.109188</td>\n",
       "      <td>0.654530</td>\n",
       "    </tr>\n",
       "    <tr>\n",
       "      <th>0</th>\n",
       "      <td>rf_</td>\n",
       "      <td>&lt;bound method BaseEstimator.get_params of Rand...</td>\n",
       "      <td>0.963799</td>\n",
       "      <td>0.050481</td>\n",
       "      <td>0.008789</td>\n",
       "      <td>0.014971</td>\n",
       "      <td>0.501724</td>\n",
       "    </tr>\n",
       "    <tr>\n",
       "      <th>0</th>\n",
       "      <td>nb_</td>\n",
       "      <td>&lt;bound method BaseEstimator.get_params of Gaus...</td>\n",
       "      <td>0.454277</td>\n",
       "      <td>0.040518</td>\n",
       "      <td>0.724609</td>\n",
       "      <td>0.076745</td>\n",
       "      <td>0.585076</td>\n",
       "    </tr>\n",
       "    <tr>\n",
       "      <th>0</th>\n",
       "      <td>ann</td>\n",
       "      <td>{'hidden_dim1': {0: 119}, 'hidden_dim2': {0: 3...</td>\n",
       "      <td>0.799130</td>\n",
       "      <td>0.062389</td>\n",
       "      <td>0.386161</td>\n",
       "      <td>0.107422</td>\n",
       "      <td>0.599318</td>\n",
       "    </tr>\n",
       "  </tbody>\n",
       "</table>\n",
       "</div>"
      ],
      "text/plain": [
       "  modelo                                         parametros  accuracy_score  \\\n",
       "0    log  <bound method BaseEstimator.get_params of Logi...        0.679073   \n",
       "0    rf_  <bound method BaseEstimator.get_params of Rand...        0.963799   \n",
       "0    nb_  <bound method BaseEstimator.get_params of Gaus...        0.454277   \n",
       "0    ann  {'hidden_dim1': {0: 119}, 'hidden_dim2': {0: 3...        0.799130   \n",
       "\n",
       "   precision_score  recall_score  f1_score  roc_auc_score  \n",
       "0         0.059789      0.628348  0.109188       0.654530  \n",
       "0         0.050481      0.008789  0.014971       0.501724  \n",
       "0         0.040518      0.724609  0.076745       0.585076  \n",
       "0         0.062389      0.386161  0.107422       0.599318  "
      ]
     },
     "execution_count": 15,
     "metadata": {},
     "output_type": "execute_result"
    }
   ],
   "source": [
    "#Crear dataframe donde se alojan resultados sobre el conjunto de test\n",
    "\n",
    "metricas_df = pd.DataFrame(columns = ['modelo'\n",
    "                                      ,'parametros'\n",
    "                                      ,'accuracy_score'\n",
    "                                      ,'precision_score'\n",
    "                                      ,'recall_score'\n",
    "                                      ,'f1_score'\n",
    "                                      ,'roc_auc_score'\n",
    "                                     ]\n",
    "                          )\n",
    "\n",
    "for i in ['log_model'\n",
    "         ,'rf_model'\n",
    "         ,'nb_model'\n",
    "         ,'ann_model']:\n",
    "\n",
    "    if i != 'ann_model':\n",
    "        exec(f\"raw_value = evaluate_model(model = {i},model_name = '{i}'[:3], X_test = X_test, y_test = y_test, params = {i}.get_params)\")\n",
    "    else:\n",
    "        exec(f\"raw_value = evaluate_model(model = {i},model_name = '{i}'[:3], X_test = test_loader, params = mejor_resultado.to_dict())\")\n",
    "    metricas_df = pd.concat([metricas_df, pd.DataFrame([raw_value])])\n",
    "metricas_df"
   ]
  },
  {
   "cell_type": "markdown",
   "id": "cd9c85c4-75d2-4386-a603-fa6ac749fb2b",
   "metadata": {},
   "source": [
    "## Modelo Ensemble"
   ]
  },
  {
   "cell_type": "code",
   "execution_count": 16,
   "id": "966055a0-f17a-4f16-96b6-44abddbbadf3",
   "metadata": {
    "editable": true,
    "slideshow": {
     "slide_type": ""
    },
    "tags": []
   },
   "outputs": [
    {
     "name": "stdout",
     "output_type": "stream",
     "text": [
      "[Voting] ...................... (1 of 3) Processing log, total=  31.1s\n",
      "[Voting] ....................... (2 of 3) Processing rf, total= 1.0min\n",
      "[Voting] ....................... (3 of 3) Processing nb, total=   2.7s\n"
     ]
    },
    {
     "data": {
      "text/plain": [
       "['Modelos/Modelos_Principales/ensemble.joblib']"
      ]
     },
     "execution_count": 16,
     "metadata": {},
     "output_type": "execute_result"
    }
   ],
   "source": [
    "ensemble_model = VotingClassifier(estimators=[('log', log_model)\n",
    "                                              ,('rf', rf_model)\n",
    "                                              ,('nb', nb_model)\n",
    "                                             ]\n",
    "                                  , voting='hard'\n",
    "                                  , verbose = True\n",
    "                                 ) \n",
    "\n",
    "# Entrenar el modelo ensamblado\n",
    "ensemble_model.fit(X_train, y_train)\n",
    "\n",
    "# Guardar Modelo\n",
    "joblib.dump(ensemble_model, 'Modelos/Modelos_Principales/ensemble.joblib')"
   ]
  },
  {
   "cell_type": "code",
   "execution_count": 17,
   "id": "dc43e295-ce9b-40ac-bd80-c3d37914003b",
   "metadata": {
    "editable": true,
    "slideshow": {
     "slide_type": ""
    },
    "tags": []
   },
   "outputs": [],
   "source": [
    "for i in ['ensemble_model']:\n",
    "\n",
    "    if i != 'ann_model':\n",
    "        exec(f\"raw_value = evaluate_model(model = {i},model_name = '{i}'[:3], X_test = X_test, y_test = y_test, params = {i}.get_params)\")\n",
    "    else:\n",
    "        exec(f\"raw_value = evaluate_model(model = {i},model_name = '{i}'[:3], X_test = test_loader, params = mejor_resultado.to_dict())\")\n",
    "    metricas_df = pd.concat([metricas_df, pd.DataFrame([raw_value])])"
   ]
  },
  {
   "cell_type": "code",
   "execution_count": 18,
   "id": "8c25bd5d-b6a3-45b8-b0db-ceb121e62e42",
   "metadata": {
    "editable": true,
    "slideshow": {
     "slide_type": ""
    },
    "tags": []
   },
   "outputs": [],
   "source": [
    "metricas_df.to_parquet('Modelos/Resultados_Mejores_Modelos.parquet')"
   ]
  },
  {
   "cell_type": "markdown",
   "id": "191ac1a5-7201-4376-8390-f980e2474873",
   "metadata": {},
   "source": [
    "## PCA"
   ]
  },
  {
   "cell_type": "code",
   "execution_count": 19,
   "id": "d9922df1-7463-4b02-9c08-e0560174da3c",
   "metadata": {},
   "outputs": [],
   "source": [
    "from sklearn.decomposition import PCA\n",
    "from matplotlib import pyplot as plt"
   ]
  },
  {
   "cell_type": "code",
   "execution_count": 20,
   "id": "b5d8de85-63b8-40df-bb70-4977b88de787",
   "metadata": {
    "editable": true,
    "slideshow": {
     "slide_type": ""
    },
    "tags": []
   },
   "outputs": [
    {
     "data": {
      "image/png": "[encoded data removed]",
      "text/plain": [
       "<Figure size 800x400 with 1 Axes>"
      ]
     },
     "metadata": {},
     "output_type": "display_data"
    }
   ],
   "source": [
    "pca = PCA(n_components=0.95) # Conservar el 95% de la varianza\n",
    "X_train_pca = pca.fit_transform(X_train)\n",
    "X_test_pca = pca.transform(X_test)\n",
    "\n",
    "pca_columns = ['PC' + str(i+1) for i in range(X_train_pca.shape[1])]\n",
    "X_train_pca_df = pd.DataFrame(X_train_pca, columns=pca_columns)\n",
    "X_test_pca_df = pd.DataFrame(X_test_pca, columns=pca_columns)\n",
    "\n",
    "# Varianza explicada\n",
    "varianza_explicada = pca.explained_variance_ratio_.cumsum()\n",
    "\n",
    "# Graficar la varianza explicada acumulativa\n",
    "plt.figure(figsize=(8, 4))\n",
    "plt.plot(varianza_explicada, marker='o')\n",
    "plt.xlabel('Número de Componentes')\n",
    "plt.ylabel('Varianza Explicada Acumulativa')\n",
    "plt.title('Varianza Explicada por PCA')\n",
    "plt.grid(True)\n",
    "plt.show()"
   ]
  },
  {
   "cell_type": "code",
   "execution_count": 21,
   "id": "9d4cd005-5bc9-44c8-b9b1-7728525b9346",
   "metadata": {},
   "outputs": [],
   "source": [
    "X_train_pca_df = X_train_pca_df.iloc[:, :10]\n",
    "X_test_pca_df = X_test_pca_df.iloc[:, :10]"
   ]
  },
  {
   "cell_type": "code",
   "execution_count": 22,
   "id": "7611cf9f-be56-4df9-b42d-a7f865687e5c",
   "metadata": {
    "editable": true,
    "slideshow": {
     "slide_type": ""
    },
    "tags": []
   },
   "outputs": [
    {
     "data": {
      "text/html": [
       "<div>\n",
       "<style scoped>\n",
       "    .dataframe tbody tr th:only-of-type {\n",
       "        vertical-align: middle;\n",
       "    }\n",
       "\n",
       "    .dataframe tbody tr th {\n",
       "        vertical-align: top;\n",
       "    }\n",
       "\n",
       "    .dataframe thead th {\n",
       "        text-align: right;\n",
       "    }\n",
       "</style>\n",
       "<table border=\"1\" class=\"dataframe\">\n",
       "  <thead>\n",
       "    <tr style=\"text-align: right;\">\n",
       "      <th></th>\n",
       "      <th>PC1</th>\n",
       "      <th>PC2</th>\n",
       "      <th>PC3</th>\n",
       "      <th>PC4</th>\n",
       "      <th>PC5</th>\n",
       "      <th>PC6</th>\n",
       "      <th>PC7</th>\n",
       "      <th>PC8</th>\n",
       "      <th>PC9</th>\n",
       "      <th>PC10</th>\n",
       "    </tr>\n",
       "  </thead>\n",
       "  <tbody>\n",
       "    <tr>\n",
       "      <th>0</th>\n",
       "      <td>-1.661701</td>\n",
       "      <td>1.165067</td>\n",
       "      <td>1.134399</td>\n",
       "      <td>-0.161325</td>\n",
       "      <td>-0.189739</td>\n",
       "      <td>-0.955907</td>\n",
       "      <td>0.106658</td>\n",
       "      <td>-0.397884</td>\n",
       "      <td>-0.146514</td>\n",
       "      <td>-0.293272</td>\n",
       "    </tr>\n",
       "    <tr>\n",
       "      <th>1</th>\n",
       "      <td>0.902399</td>\n",
       "      <td>1.540789</td>\n",
       "      <td>-0.668735</td>\n",
       "      <td>-0.597765</td>\n",
       "      <td>-0.116072</td>\n",
       "      <td>1.337460</td>\n",
       "      <td>-1.197787</td>\n",
       "      <td>-0.088198</td>\n",
       "      <td>-0.229639</td>\n",
       "      <td>-0.508672</td>\n",
       "    </tr>\n",
       "    <tr>\n",
       "      <th>2</th>\n",
       "      <td>-0.079606</td>\n",
       "      <td>2.038252</td>\n",
       "      <td>-0.564666</td>\n",
       "      <td>-0.140380</td>\n",
       "      <td>-0.384467</td>\n",
       "      <td>0.885591</td>\n",
       "      <td>-0.557870</td>\n",
       "      <td>-0.046659</td>\n",
       "      <td>-0.221876</td>\n",
       "      <td>-0.380380</td>\n",
       "    </tr>\n",
       "    <tr>\n",
       "      <th>3</th>\n",
       "      <td>0.170257</td>\n",
       "      <td>-0.968258</td>\n",
       "      <td>-0.911222</td>\n",
       "      <td>0.675619</td>\n",
       "      <td>0.061949</td>\n",
       "      <td>-0.735584</td>\n",
       "      <td>-1.194989</td>\n",
       "      <td>0.322549</td>\n",
       "      <td>-0.681477</td>\n",
       "      <td>0.898946</td>\n",
       "    </tr>\n",
       "    <tr>\n",
       "      <th>4</th>\n",
       "      <td>-0.983060</td>\n",
       "      <td>-1.388018</td>\n",
       "      <td>1.247099</td>\n",
       "      <td>0.497953</td>\n",
       "      <td>0.324761</td>\n",
       "      <td>0.135387</td>\n",
       "      <td>-0.720649</td>\n",
       "      <td>0.419040</td>\n",
       "      <td>1.075864</td>\n",
       "      <td>-0.592218</td>\n",
       "    </tr>\n",
       "  </tbody>\n",
       "</table>\n",
       "</div>"
      ],
      "text/plain": [
       "        PC1       PC2       PC3       PC4       PC5       PC6       PC7  \\\n",
       "0 -1.661701  1.165067  1.134399 -0.161325 -0.189739 -0.955907  0.106658   \n",
       "1  0.902399  1.540789 -0.668735 -0.597765 -0.116072  1.337460 -1.197787   \n",
       "2 -0.079606  2.038252 -0.564666 -0.140380 -0.384467  0.885591 -0.557870   \n",
       "3  0.170257 -0.968258 -0.911222  0.675619  0.061949 -0.735584 -1.194989   \n",
       "4 -0.983060 -1.388018  1.247099  0.497953  0.324761  0.135387 -0.720649   \n",
       "\n",
       "        PC8       PC9      PC10  \n",
       "0 -0.397884 -0.146514 -0.293272  \n",
       "1 -0.088198 -0.229639 -0.508672  \n",
       "2 -0.046659 -0.221876 -0.380380  \n",
       "3  0.322549 -0.681477  0.898946  \n",
       "4  0.419040  1.075864 -0.592218  "
      ]
     },
     "execution_count": 22,
     "metadata": {},
     "output_type": "execute_result"
    }
   ],
   "source": [
    "X_train_pca_df.head()"
   ]
  },
  {
   "cell_type": "code",
   "execution_count": 23,
   "id": "6bdc691d-6c36-4989-be50-f306b7cd8602",
   "metadata": {},
   "outputs": [
    {
     "name": "stdout",
     "output_type": "stream",
     "text": [
      "Fitting 5 folds for each of 25 candidates, totalling 125 fits\n"
     ]
    },
    {
     "data": {
      "text/plain": [
       "['Modelos/Modelos_Principales/best_naive_bayes_PCA.joblib']"
      ]
     },
     "execution_count": 23,
     "metadata": {},
     "output_type": "execute_result"
    }
   ],
   "source": [
    "# Definir el espacio de búsqueda de hiperparámetros\n",
    "nb_param_dist = {\n",
    "    'var_smoothing': np.logspace(0, -9, num=100)  # Explorando valores en una escala logarítmica\n",
    "}\n",
    "\n",
    "# Configurar el RandomizedSearchCV\n",
    "nb_random_search = RandomizedSearchCV(\n",
    "    estimator=GaussianNB(),\n",
    "    param_distributions=nb_param_dist,\n",
    "    n_iter=25,\n",
    "    cv=cv,\n",
    "    verbose=4,\n",
    "    random_state=42,\n",
    "    n_jobs=2,\n",
    "    scoring='roc_auc',\n",
    "    return_train_score=True\n",
    ")\n",
    "\n",
    "# Entrenar el modelo usando el RandomizedSearchCV\n",
    "nb_random_search.fit(X_train_pca_df, y_train, groups=weeks)\n",
    "\n",
    "# Guardar Resultados\n",
    "cv_results_nb = pd.DataFrame(nb_random_search.cv_results_)\n",
    "cv_results_nb.to_parquet('Modelos/RS_Naive_Bayes_PCA.parquet')\n",
    "\n",
    "# Guardar Mejor Modelo\n",
    "joblib.dump(nb_random_search.best_estimator_, 'Modelos/Modelos_Principales/best_naive_bayes_PCA.joblib')"
   ]
  },
  {
   "cell_type": "code",
   "execution_count": 24,
   "id": "15e3ac6f-37ab-4585-a71d-d5fc465623bf",
   "metadata": {
    "editable": true,
    "slideshow": {
     "slide_type": ""
    },
    "tags": []
   },
   "outputs": [
    {
     "data": {
      "text/plain": [
       "{'modelo': 'nb_pca',\n",
       " 'parametros': \"{'var_smoothing': 6.579332246575682e-09}\",\n",
       " 'accuracy_score': 0.645911117515797,\n",
       " 'precision_score': 0.04854274057606332,\n",
       " 'recall_score': 0.5544084821428571,\n",
       " 'f1_score': 0.08926926792012041,\n",
       " 'roc_auc_score': 0.6016381569803864}"
      ]
     },
     "execution_count": 24,
     "metadata": {},
     "output_type": "execute_result"
    }
   ],
   "source": [
    "evaluate_model(model = nb_random_search.best_estimator_,model_name = 'nb_pca', X_test = X_test_pca_df, y_test = y_test, params = nb_random_search.best_params_)"
   ]
  },
  {
   "cell_type": "code",
   "execution_count": 26,
   "id": "02f8d8ed-fe48-49c1-b385-b9f3c0af3594",
   "metadata": {
    "editable": true,
    "scrolled": true,
    "slideshow": {
     "slide_type": ""
    },
    "tags": []
   },
   "outputs": [
    {
     "name": "stdout",
     "output_type": "stream",
     "text": [
      "Fitting 5 folds for each of 12 candidates, totalling 60 fits\n",
      "[CV 1/5] END bootstrap=False, max_depth=30, max_features=log2, min_samples_leaf=4, min_samples_split=5, n_estimators=10;, score=(train=0.999, test=0.780) total time=  20.7s\n",
      "[CV 2/5] END bootstrap=False, max_depth=30, max_features=log2, min_samples_leaf=4, min_samples_split=5, n_estimators=10;, score=(train=0.999, test=0.790) total time=  19.8s\n",
      "[CV 3/5] END bootstrap=False, max_depth=30, max_features=log2, min_samples_leaf=4, min_samples_split=5, n_estimators=10;, score=(train=0.999, test=0.820) total time=  19.8s\n",
      "[CV 4/5] END bootstrap=False, max_depth=30, max_features=log2, min_samples_leaf=4, min_samples_split=5, n_estimators=10;, score=(train=0.999, test=0.790) total time=  20.6s\n",
      "[CV 5/5] END bootstrap=False, max_depth=30, max_features=log2, min_samples_leaf=4, min_samples_split=5, n_estimators=10;, score=(train=0.999, test=0.792) total time=  19.7s\n",
      "[CV 1/5] END bootstrap=True, max_depth=20, max_features=sqrt, min_samples_leaf=1, min_samples_split=2, n_estimators=200;, score=(train=0.966, test=0.779) total time= 2.0min\n",
      "[CV 2/5] END bootstrap=True, max_depth=20, max_features=sqrt, min_samples_leaf=1, min_samples_split=2, n_estimators=200;, score=(train=0.965, test=0.784) total time= 2.1min\n",
      "[CV 3/5] END bootstrap=True, max_depth=20, max_features=sqrt, min_samples_leaf=1, min_samples_split=2, n_estimators=200;, score=(train=0.967, test=0.803) total time= 2.1min\n",
      "[CV 4/5] END bootstrap=True, max_depth=20, max_features=sqrt, min_samples_leaf=1, min_samples_split=2, n_estimators=200;, score=(train=0.963, test=0.782) total time= 2.1min\n",
      "[CV 5/5] END bootstrap=True, max_depth=20, max_features=sqrt, min_samples_leaf=1, min_samples_split=2, n_estimators=200;, score=(train=0.965, test=0.781) total time= 2.1min\n",
      "[CV 1/5] END bootstrap=True, max_depth=30, max_features=log2, min_samples_leaf=1, min_samples_split=2, n_estimators=10;, score=(train=0.998, test=0.772) total time=  13.5s\n",
      "[CV 2/5] END bootstrap=True, max_depth=30, max_features=log2, min_samples_leaf=1, min_samples_split=2, n_estimators=10;, score=(train=0.998, test=0.783) total time=  13.3s\n",
      "[CV 3/5] END bootstrap=True, max_depth=30, max_features=log2, min_samples_leaf=1, min_samples_split=2, n_estimators=10;, score=(train=0.999, test=0.810) total time=  13.5s\n",
      "[CV 4/5] END bootstrap=True, max_depth=30, max_features=log2, min_samples_leaf=1, min_samples_split=2, n_estimators=10;, score=(train=0.998, test=0.783) total time=  13.7s\n",
      "[CV 5/5] END bootstrap=True, max_depth=30, max_features=log2, min_samples_leaf=1, min_samples_split=2, n_estimators=10;, score=(train=0.998, test=0.780) total time=  14.0s\n",
      "[CV 1/5] END bootstrap=True, max_depth=10, max_features=sqrt, min_samples_leaf=4, min_samples_split=5, n_estimators=100;, score=(train=0.727, test=0.702) total time=  44.3s\n",
      "[CV 2/5] END bootstrap=True, max_depth=10, max_features=sqrt, min_samples_leaf=4, min_samples_split=5, n_estimators=100;, score=(train=0.726, test=0.699) total time=  44.1s\n",
      "[CV 3/5] END bootstrap=True, max_depth=10, max_features=sqrt, min_samples_leaf=4, min_samples_split=5, n_estimators=100;, score=(train=0.727, test=0.701) total time=  44.4s\n",
      "[CV 4/5] END bootstrap=True, max_depth=10, max_features=sqrt, min_samples_leaf=4, min_samples_split=5, n_estimators=100;, score=(train=0.726, test=0.699) total time=  45.8s\n",
      "[CV 5/5] END bootstrap=True, max_depth=10, max_features=sqrt, min_samples_leaf=4, min_samples_split=5, n_estimators=100;, score=(train=0.728, test=0.693) total time=  45.9s\n",
      "[CV 1/5] END bootstrap=False, max_depth=30, max_features=sqrt, min_samples_leaf=4, min_samples_split=10, n_estimators=10;, score=(train=0.999, test=0.780) total time=  18.7s\n",
      "[CV 2/5] END bootstrap=False, max_depth=30, max_features=sqrt, min_samples_leaf=4, min_samples_split=10, n_estimators=10;, score=(train=0.998, test=0.790) total time=  20.8s\n",
      "[CV 3/5] END bootstrap=False, max_depth=30, max_features=sqrt, min_samples_leaf=4, min_samples_split=10, n_estimators=10;, score=(train=0.998, test=0.818) total time=  19.4s\n",
      "[CV 4/5] END bootstrap=False, max_depth=30, max_features=sqrt, min_samples_leaf=4, min_samples_split=10, n_estimators=10;, score=(train=0.998, test=0.791) total time=  20.2s\n",
      "[CV 5/5] END bootstrap=False, max_depth=30, max_features=sqrt, min_samples_leaf=4, min_samples_split=10, n_estimators=10;, score=(train=0.998, test=0.791) total time=  20.0s\n",
      "[CV 1/5] END bootstrap=False, max_depth=10, max_features=log2, min_samples_leaf=2, min_samples_split=10, n_estimators=200;, score=(train=0.728, test=0.703) total time= 1.9min\n",
      "[CV 2/5] END bootstrap=False, max_depth=10, max_features=log2, min_samples_leaf=2, min_samples_split=10, n_estimators=200;, score=(train=0.728, test=0.699) total time= 1.9min\n",
      "[CV 3/5] END bootstrap=False, max_depth=10, max_features=log2, min_samples_leaf=2, min_samples_split=10, n_estimators=200;, score=(train=0.728, test=0.702) total time= 1.9min\n",
      "[CV 4/5] END bootstrap=False, max_depth=10, max_features=log2, min_samples_leaf=2, min_samples_split=10, n_estimators=200;, score=(train=0.726, test=0.699) total time= 2.0min\n",
      "[CV 5/5] END bootstrap=False, max_depth=10, max_features=log2, min_samples_leaf=2, min_samples_split=10, n_estimators=200;, score=(train=0.729, test=0.693) total time= 1.9min\n",
      "[CV 1/5] END bootstrap=False, max_depth=30, max_features=log2, min_samples_leaf=2, min_samples_split=5, n_estimators=100;, score=(train=1.000, test=0.807) total time= 1.8min\n",
      "[CV 2/5] END bootstrap=False, max_depth=30, max_features=log2, min_samples_leaf=2, min_samples_split=5, n_estimators=100;, score=(train=1.000, test=0.818) total time= 1.8min\n",
      "[CV 3/5] END bootstrap=False, max_depth=30, max_features=log2, min_samples_leaf=2, min_samples_split=5, n_estimators=100;, score=(train=1.000, test=0.846) total time= 1.8min\n",
      "[CV 4/5] END bootstrap=False, max_depth=30, max_features=log2, min_samples_leaf=2, min_samples_split=5, n_estimators=100;, score=(train=1.000, test=0.817) total time= 1.9min\n",
      "[CV 5/5] END bootstrap=False, max_depth=30, max_features=log2, min_samples_leaf=2, min_samples_split=5, n_estimators=100;, score=(train=1.000, test=0.818) total time= 1.9min\n",
      "[CV 1/5] END bootstrap=True, max_depth=30, max_features=sqrt, min_samples_leaf=1, min_samples_split=10, n_estimators=100;, score=(train=0.998, test=0.799) total time= 1.2min\n",
      "[CV 2/5] END bootstrap=True, max_depth=30, max_features=sqrt, min_samples_leaf=1, min_samples_split=10, n_estimators=100;, score=(train=0.998, test=0.808) total time= 1.2min\n",
      "[CV 3/5] END bootstrap=True, max_depth=30, max_features=sqrt, min_samples_leaf=1, min_samples_split=10, n_estimators=100;, score=(train=0.999, test=0.833) total time= 1.3min\n",
      "[CV 4/5] END bootstrap=True, max_depth=30, max_features=sqrt, min_samples_leaf=1, min_samples_split=10, n_estimators=100;, score=(train=0.998, test=0.807) total time= 1.3min\n",
      "[CV 5/5] END bootstrap=True, max_depth=30, max_features=sqrt, min_samples_leaf=1, min_samples_split=10, n_estimators=100;, score=(train=0.998, test=0.807) total time= 1.3min\n",
      "[CV 1/5] END bootstrap=True, max_depth=30, max_features=log2, min_samples_leaf=2, min_samples_split=2, n_estimators=200;, score=(train=0.999, test=0.803) total time= 2.4min\n",
      "[CV 2/5] END bootstrap=True, max_depth=30, max_features=log2, min_samples_leaf=2, min_samples_split=2, n_estimators=200;, score=(train=0.999, test=0.812) total time= 2.4min\n",
      "[CV 3/5] END bootstrap=True, max_depth=30, max_features=log2, min_samples_leaf=2, min_samples_split=2, n_estimators=200;, score=(train=0.999, test=0.840) total time= 2.3min\n",
      "[CV 4/5] END bootstrap=True, max_depth=30, max_features=log2, min_samples_leaf=2, min_samples_split=2, n_estimators=200;, score=(train=0.999, test=0.812) total time= 2.4min\n",
      "[CV 5/5] END bootstrap=True, max_depth=30, max_features=log2, min_samples_leaf=2, min_samples_split=2, n_estimators=200;, score=(train=0.999, test=0.812) total time= 2.4min\n",
      "[CV 1/5] END bootstrap=True, max_depth=30, max_features=sqrt, min_samples_leaf=1, min_samples_split=5, n_estimators=10;, score=(train=0.998, test=0.772) total time=  13.3s\n",
      "[CV 2/5] END bootstrap=True, max_depth=30, max_features=sqrt, min_samples_leaf=1, min_samples_split=5, n_estimators=10;, score=(train=0.998, test=0.782) total time=  13.6s\n",
      "[CV 3/5] END bootstrap=True, max_depth=30, max_features=sqrt, min_samples_leaf=1, min_samples_split=5, n_estimators=10;, score=(train=0.998, test=0.810) total time=  13.5s\n",
      "[CV 4/5] END bootstrap=True, max_depth=30, max_features=sqrt, min_samples_leaf=1, min_samples_split=5, n_estimators=10;, score=(train=0.997, test=0.782) total time=  13.9s\n",
      "[CV 5/5] END bootstrap=True, max_depth=30, max_features=sqrt, min_samples_leaf=1, min_samples_split=5, n_estimators=10;, score=(train=0.998, test=0.784) total time=  13.7s\n",
      "[CV 1/5] END bootstrap=True, max_depth=30, max_features=sqrt, min_samples_leaf=1, min_samples_split=10, n_estimators=50;, score=(train=0.998, test=0.795) total time=  42.0s\n",
      "[CV 2/5] END bootstrap=True, max_depth=30, max_features=sqrt, min_samples_leaf=1, min_samples_split=10, n_estimators=50;, score=(train=0.998, test=0.804) total time=  42.2s\n",
      "[CV 3/5] END bootstrap=True, max_depth=30, max_features=sqrt, min_samples_leaf=1, min_samples_split=10, n_estimators=50;, score=(train=0.998, test=0.830) total time=  42.6s\n",
      "[CV 4/5] END bootstrap=True, max_depth=30, max_features=sqrt, min_samples_leaf=1, min_samples_split=10, n_estimators=50;, score=(train=0.998, test=0.804) total time=  44.1s\n",
      "[CV 5/5] END bootstrap=True, max_depth=30, max_features=sqrt, min_samples_leaf=1, min_samples_split=10, n_estimators=50;, score=(train=0.998, test=0.803) total time=  43.8s\n",
      "[CV 1/5] END bootstrap=True, max_depth=10, max_features=log2, min_samples_leaf=4, min_samples_split=10, n_estimators=100;, score=(train=0.727, test=0.702) total time=  43.9s\n",
      "[CV 2/5] END bootstrap=True, max_depth=10, max_features=log2, min_samples_leaf=4, min_samples_split=10, n_estimators=100;, score=(train=0.727, test=0.699) total time=  44.6s\n",
      "[CV 3/5] END bootstrap=True, max_depth=10, max_features=log2, min_samples_leaf=4, min_samples_split=10, n_estimators=100;, score=(train=0.727, test=0.702) total time=  44.0s\n",
      "[CV 4/5] END bootstrap=True, max_depth=10, max_features=log2, min_samples_leaf=4, min_samples_split=10, n_estimators=100;, score=(train=0.725, test=0.698) total time=  45.6s\n",
      "[CV 5/5] END bootstrap=True, max_depth=10, max_features=log2, min_samples_leaf=4, min_samples_split=10, n_estimators=100;, score=(train=0.728, test=0.693) total time=  45.2s\n",
      "CPU times: total: 23h 6min 58s\n",
      "Wall time: 1h 9min 40s\n"
     ]
    },
    {
     "data": {
      "text/plain": [
       "['Modelos/Modelos_Principales/best_random_forest_PCA.joblib']"
      ]
     },
     "execution_count": 26,
     "metadata": {},
     "output_type": "execute_result"
    }
   ],
   "source": [
    "%%time\n",
    "# Se genera un diccionario de parametros por cada modelo a probar\n",
    "rf_param_dist = {\n",
    "    'n_estimators': [10, 50, 100, 200]\n",
    "    ,'max_features': ['sqrt', 'log2']\n",
    "    ,'max_depth': [10, 20, 30]\n",
    "    ,'min_samples_split': [2, 5, 10]\n",
    "    ,'min_samples_leaf': [1, 2, 4]\n",
    "    ,'bootstrap': [True, False]\n",
    "}\n",
    "\n",
    "# Se genera un random search para cada modelo\n",
    "rf_random_search = RandomizedSearchCV(\n",
    "    estimator=RandomForestClassifier(n_jobs=-1\n",
    "                                    )\n",
    "    ,param_distributions=rf_param_dist\n",
    "    ,n_iter=12\n",
    "    ,cv=cv\n",
    "    ,verbose=4\n",
    "    ,random_state=42\n",
    "    ,n_jobs=1\n",
    "    ,scoring = 'roc_auc'\n",
    "    ,return_train_score = True\n",
    ")\n",
    "\n",
    "rf_random_search.fit(X_train_pca_df, y_train, groups=weeks)\n",
    "\n",
    "# Guardar Resultados\n",
    "\n",
    "cv_results = pd.DataFrame(rf_random_search.cv_results_)\n",
    "cv_results.to_parquet('Modelos/RS_Random_Forest_PCA.parquet')\n",
    "\n",
    "# Guardar Mejor Modelo\n",
    "\n",
    "joblib.dump(rf_random_search.best_estimator_, 'Modelos/Modelos_Principales/best_random_forest_PCA.joblib')"
   ]
  },
  {
   "cell_type": "code",
   "execution_count": 27,
   "id": "7e9420ae-d82e-44cf-9975-822b98e27cf3",
   "metadata": {},
   "outputs": [
    {
     "data": {
      "text/plain": [
       "{'modelo': 'rf_pca',\n",
       " 'parametros': \"{'n_estimators': 100, 'min_samples_split': 5, 'min_samples_leaf': 2, 'max_features': 'log2', 'max_depth': 30, 'bootstrap': False}\",\n",
       " 'accuracy_score': 0.8739121131533325,\n",
       " 'precision_score': 0.0626611863313991,\n",
       " 'recall_score': 0.21693638392857142,\n",
       " 'f1_score': 0.09723611805902951,\n",
       " 'roc_auc_score': 0.5560386397375906}"
      ]
     },
     "execution_count": 27,
     "metadata": {},
     "output_type": "execute_result"
    }
   ],
   "source": [
    "evaluate_model(model = rf_random_search.best_estimator_,model_name = 'rf_pca', X_test = X_test_pca_df, y_test = y_test, params = rf_random_search.best_params_)"
   ]
  },
  {
   "cell_type": "code",
   "execution_count": 28,
   "id": "42118a58-819f-47ae-9640-a932f9782365",
   "metadata": {},
   "outputs": [
    {
     "name": "stdout",
     "output_type": "stream",
     "text": [
      "Fitting 5 folds for each of 5 candidates, totalling 25 fits\n",
      "[CV 1/5] END C=0.001, penalty=l1, solver=saga;, score=(train=0.653, test=0.658) total time=   6.1s\n",
      "[CV 2/5] END C=0.001, penalty=l1, solver=saga;, score=(train=0.655, test=0.650) total time=   6.1s\n",
      "[CV 3/5] END C=0.001, penalty=l1, solver=saga;, score=(train=0.654, test=0.652) total time=   6.1s\n",
      "[CV 4/5] END C=0.001, penalty=l1, solver=saga;, score=(train=0.653, test=0.657) total time=   6.3s\n",
      "[CV 5/5] END C=0.001, penalty=l1, solver=saga;, score=(train=0.655, test=0.648) total time=   6.3s\n",
      "[CV 1/5] END C=0.01, penalty=l1, solver=saga;, score=(train=0.653, test=0.658) total time=   6.0s\n",
      "[CV 2/5] END C=0.01, penalty=l1, solver=saga;, score=(train=0.655, test=0.650) total time=   6.1s\n",
      "[CV 3/5] END C=0.01, penalty=l1, solver=saga;, score=(train=0.654, test=0.652) total time=   6.1s\n",
      "[CV 4/5] END C=0.01, penalty=l1, solver=saga;, score=(train=0.653, test=0.657) total time=   6.4s\n",
      "[CV 5/5] END C=0.01, penalty=l1, solver=saga;, score=(train=0.655, test=0.648) total time=   6.3s\n",
      "[CV 1/5] END C=0.1, penalty=l1, solver=saga;, score=(train=0.653, test=0.658) total time=   6.3s\n",
      "[CV 2/5] END C=0.1, penalty=l1, solver=saga;, score=(train=0.655, test=0.650) total time=   6.2s\n",
      "[CV 3/5] END C=0.1, penalty=l1, solver=saga;, score=(train=0.654, test=0.652) total time=   6.1s\n",
      "[CV 4/5] END C=0.1, penalty=l1, solver=saga;, score=(train=0.653, test=0.656) total time=   6.3s\n",
      "[CV 5/5] END C=0.1, penalty=l1, solver=saga;, score=(train=0.655, test=0.647) total time=   6.3s\n",
      "[CV 1/5] END C=1, penalty=l1, solver=saga;, score=(train=0.653, test=0.658) total time=   6.3s\n",
      "[CV 2/5] END C=1, penalty=l1, solver=saga;, score=(train=0.655, test=0.650) total time=   6.3s\n",
      "[CV 3/5] END C=1, penalty=l1, solver=saga;, score=(train=0.654, test=0.652) total time=   6.4s\n",
      "[CV 4/5] END C=1, penalty=l1, solver=saga;, score=(train=0.653, test=0.657) total time=   6.6s\n",
      "[CV 5/5] END C=1, penalty=l1, solver=saga;, score=(train=0.655, test=0.647) total time=   6.5s\n",
      "[CV 1/5] END C=10, penalty=l1, solver=saga;, score=(train=0.653, test=0.658) total time=   6.3s\n",
      "[CV 2/5] END C=10, penalty=l1, solver=saga;, score=(train=0.655, test=0.650) total time=   6.3s\n",
      "[CV 3/5] END C=10, penalty=l1, solver=saga;, score=(train=0.654, test=0.652) total time=   6.4s\n",
      "[CV 4/5] END C=10, penalty=l1, solver=saga;, score=(train=0.653, test=0.656) total time=   7.3s\n",
      "[CV 5/5] END C=10, penalty=l1, solver=saga;, score=(train=0.655, test=0.647) total time=   7.1s\n",
      "CPU times: total: 2min 58s\n",
      "Wall time: 3min 1s\n"
     ]
    },
    {
     "data": {
      "text/plain": [
       "['Modelos/Modelos_Principales/best_logit_PCA.joblib']"
      ]
     },
     "execution_count": 28,
     "metadata": {},
     "output_type": "execute_result"
    }
   ],
   "source": [
    "%%time\n",
    "# Se genera un diccionario de parametros por cada modelo a probar\n",
    "\n",
    "logistic_param_dist = {\n",
    "    'C': [0.001, 0.01, 0.1, 1, 10]\n",
    "    ,'penalty': ['l1']\n",
    "    ,'solver': ['saga']\n",
    "}\n",
    "\n",
    "# Se genera un grid search para cada modelo\n",
    "\n",
    "\n",
    "logistic_random_search = RandomizedSearchCV(\n",
    "    estimator=LogisticRegression(n_jobs=-1\n",
    "                                ,max_iter=10\n",
    "                                )\n",
    "    ,param_distributions=logistic_param_dist\n",
    "    ,n_iter=25\n",
    "    ,cv=cv\n",
    "    ,verbose=4\n",
    "    ,random_state=42\n",
    "    ,n_jobs=1\n",
    "    ,scoring = 'roc_auc'\n",
    "    ,return_train_score = True\n",
    ")\n",
    "\n",
    "logistic_random_search.fit(X_train_pca_df, y_train, groups=weeks)\n",
    "\n",
    "# Guardar Resultados\n",
    "\n",
    "cv_results = pd.DataFrame(logistic_random_search.cv_results_)\n",
    "cv_results.to_parquet('Modelos/RS_Logit_PCA.parquet')\n",
    "\n",
    "# Guardar Mejor Modelo\n",
    "\n",
    "joblib.dump(logistic_random_search.best_estimator_, 'Modelos/Modelos_Principales/best_logit_PCA.joblib')"
   ]
  },
  {
   "cell_type": "code",
   "execution_count": 29,
   "id": "b066f5fe-7d1f-4861-bd58-b5dbde815bf0",
   "metadata": {
    "editable": true,
    "slideshow": {
     "slide_type": ""
    },
    "tags": []
   },
   "outputs": [
    {
     "data": {
      "text/plain": [
       "{'modelo': 'log_pca',\n",
       " 'parametros': \"{'solver': 'saga', 'penalty': 'l1', 'C': 0.001}\",\n",
       " 'accuracy_score': 0.6505050240394062,\n",
       " 'precision_score': 0.050287604611548624,\n",
       " 'recall_score': 0.568359375,\n",
       " 'f1_score': 0.0923998094849289,\n",
       " 'roc_auc_score': 0.6107593810504957}"
      ]
     },
     "execution_count": 29,
     "metadata": {},
     "output_type": "execute_result"
    }
   ],
   "source": [
    "evaluate_model(model = logistic_random_search.best_estimator_,model_name = 'log_pca', X_test = X_test_pca_df, y_test = y_test, params = logistic_random_search.best_params_)"
   ]
  },
  {
   "cell_type": "code",
   "execution_count": 30,
   "id": "a0fc3ded-fe90-45e6-b69d-34ca399b0187",
   "metadata": {},
   "outputs": [
    {
     "ename": "NameError",
     "evalue": "name 'X_val_pca' is not defined",
     "output_type": "error",
     "traceback": [
      "\u001b[1;31m---------------------------------------------------------------------------\u001b[0m",
      "\u001b[1;31mNameError\u001b[0m                                 Traceback (most recent call last)",
      "Cell \u001b[1;32mIn[30], line 5\u001b[0m\n\u001b[0;32m      3\u001b[0m X_train_tensor \u001b[38;5;241m=\u001b[39m torch\u001b[38;5;241m.\u001b[39mtensor(np\u001b[38;5;241m.\u001b[39marray(X_train_train_pca), dtype\u001b[38;5;241m=\u001b[39mtorch\u001b[38;5;241m.\u001b[39mfloat32)\u001b[38;5;241m.\u001b[39mto(device)\n\u001b[0;32m      4\u001b[0m y_train_tensor \u001b[38;5;241m=\u001b[39m torch\u001b[38;5;241m.\u001b[39mtensor(np\u001b[38;5;241m.\u001b[39marray(y_train_train\u001b[38;5;241m.\u001b[39mvalues), dtype\u001b[38;5;241m=\u001b[39mtorch\u001b[38;5;241m.\u001b[39mfloat32)\u001b[38;5;241m.\u001b[39munsqueeze(\u001b[38;5;241m1\u001b[39m)\u001b[38;5;241m.\u001b[39mto(device)\n\u001b[1;32m----> 5\u001b[0m X_val_tensor \u001b[38;5;241m=\u001b[39m torch\u001b[38;5;241m.\u001b[39mtensor(np\u001b[38;5;241m.\u001b[39marray(X_val_pca), dtype\u001b[38;5;241m=\u001b[39mtorch\u001b[38;5;241m.\u001b[39mfloat32)\u001b[38;5;241m.\u001b[39mto(device)\n\u001b[0;32m      6\u001b[0m y_val_tensor \u001b[38;5;241m=\u001b[39m torch\u001b[38;5;241m.\u001b[39mtensor(np\u001b[38;5;241m.\u001b[39marray(y_val\u001b[38;5;241m.\u001b[39mvalues), dtype\u001b[38;5;241m=\u001b[39mtorch\u001b[38;5;241m.\u001b[39mfloat32)\u001b[38;5;241m.\u001b[39munsqueeze(\u001b[38;5;241m1\u001b[39m)\u001b[38;5;241m.\u001b[39mto(device)\n\u001b[0;32m      8\u001b[0m \u001b[38;5;66;03m# Crear DataLoader\u001b[39;00m\n",
      "\u001b[1;31mNameError\u001b[0m: name 'X_val_pca' is not defined"
     ]
    }
   ],
   "source": [
    "# Convertir a tensores\n",
    "X_train_train_pca, X_val, y_train_train_pca, y_val = train_test_split(X_train_pca, y_train, test_size=0.15, random_state=951)\n",
    "X_train_tensor = torch.tensor(np.array(X_train_train_pca), dtype=torch.float32).to(device)\n",
    "y_train_tensor = torch.tensor(np.array(y_train_train.values), dtype=torch.float32).unsqueeze(1).to(device)\n",
    "X_val_tensor = torch.tensor(np.array(X_val_pca), dtype=torch.float32).to(device)\n",
    "y_val_tensor = torch.tensor(np.array(y_val.values), dtype=torch.float32).unsqueeze(1).to(device)\n",
    "\n",
    "# Crear DataLoader\n",
    "train_dataset = TensorDataset(X_train_tensor_pca, y_train_tensor)\n",
    "val_dataset = TensorDataset(X_val_tensor_pca, y_val_tensor)\n",
    "train_loader = DataLoader(dataset=train_dataset, batch_size=512, shuffle=True)\n",
    "val_loader = DataLoader(dataset=val_dataset, batch_size=512, shuffle=False)"
   ]
  },
  {
   "cell_type": "code",
   "execution_count": null,
   "id": "e277267d-ac2a-4935-832c-fb1307ab2914",
   "metadata": {},
   "outputs": [],
   "source": [
    "%%time\n",
    "random.seed(1234)\n",
    "# Definir el espacio de hiperparámetros\n",
    "param_dist = {\n",
    "    'hidden_dim1': [32, 64, 119]\n",
    "    ,'hidden_dim2': [32, 64]\n",
    "    ,'learning_rate': [0.01, 0.001, 0.0001]\n",
    "    ,'num_epochs': [30, 50, 70]\n",
    "}\n",
    "\n",
    "# Lista para almacenar los resultados de cada modelo\n",
    "search_results = []\n",
    "\n",
    "# Realizar Random Search\n",
    "num_searches = 5\n",
    "best_model = None\n",
    "best_roc_auc = 0.0\n",
    "\n",
    "for _ in range(num_searches):\n",
    "    start_time = time.time()\n",
    "    hidden_dim1 = random.choice(param_dist['hidden_dim1'])\n",
    "    hidden_dim2 = random.choice(param_dist['hidden_dim2'])\n",
    "    learning_rate = random.choice(param_dist['learning_rate'])\n",
    "    num_epochs = random.choice(param_dist['num_epochs'])\n",
    "    \n",
    "    model = RedInicial(input_dim=X_train_pca_df.shape[1], hidden_dim1=hidden_dim1, hidden_dim2=hidden_dim2, output_dim=1).to(device)\n",
    "    criterion = nn.BCELoss()\n",
    "    optimizer = optim.Adam(model.parameters(), lr=learning_rate)\n",
    "    \n",
    "    end_time = time.time()\n",
    "    search_time = end_time - start_time\n",
    "        \n",
    "    print(f\"Training with hidden_dim1={hidden_dim1}, hidden_dim2={hidden_dim2}, learning_rate={learning_rate}, num_epochs={num_epochs}\")\n",
    "    train_model(model, criterion, optimizer, train_loader, val_loader, num_epochs, device)\n",
    "    print(f'Time of search point: {search_time}')\n",
    "    \n",
    "    y_true, y_pred = evaluate_nn(model, val_loader, device)\n",
    "    val_roc_auc = roc_auc_score(y_true, y_pred)\n",
    "    \n",
    "    # Guardar los resultados del modelo actual\n",
    "    result = {\n",
    "        'hidden_dim1': hidden_dim1,\n",
    "        'hidden_dim2': hidden_dim2,\n",
    "        'learning_rate': learning_rate,\n",
    "        'num_epochs': num_epochs,\n",
    "        'val_roc_auc': val_roc_auc\n",
    "    }\n",
    "    search_results.append(result)\n",
    "    \n",
    "    if val_roc_auc > best_roc_auc:\n",
    "        best_roc_auc = val_roc_auc\n",
    "        best_model = model\n",
    "\n",
    "print(f\"Best model has validation ROC AUC: {best_roc_auc:.4f}\")\n",
    "\n",
    "# Convertir los resultados a un DataFrame\n",
    "search_results_df = pd.DataFrame(search_results)\n",
    "\n",
    "# Guardar los resultados en un archivo Parquet\n",
    "search_results_df.to_parquet('Modelos/RS_Neural_Network_PCA.parquet')\n",
    "\n",
    "# Guarar el mejor modelo\n",
    "torch.save(best_model.state_dict(), 'Modelos/Modelos_Principales/best_neural_network_PCA.pth')"
   ]
  }
 ],
 "metadata": {
  "kernelspec": {
   "display_name": "Python 3 (ipykernel)",
   "language": "python",
   "name": "python3"
  },
  "language_info": {
   "codemirror_mode": {
    "name": "ipython",
    "version": 3
   },
   "file_extension": ".py",
   "mimetype": "text/x-python",
   "name": "python",
   "nbconvert_exporter": "python",
   "pygments_lexer": "ipython3",
   "version": "3.11.9"
  }
 },
 "nbformat": 4,
 "nbformat_minor": 5
}
